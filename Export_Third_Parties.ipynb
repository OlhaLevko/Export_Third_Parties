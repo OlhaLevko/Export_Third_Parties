{
  "nbformat": 4,
  "nbformat_minor": 0,
  "metadata": {
    "colab": {
      "name": "Export_Third_Parties.ipynb",
      "provenance": []
    },
    "kernelspec": {
      "name": "python3",
      "display_name": "Python 3"
    },
    "language_info": {
      "name": "python"
    }
  },
  "cells": [
    {
      "cell_type": "markdown",
      "metadata": {
        "id": "6DFG_s7MnT-n"
      },
      "source": [
        "# Export-Third-Parties"
      ]
    },
    {
      "cell_type": "markdown",
      "metadata": {
        "id": "iGPqmhv9pJ7i"
      },
      "source": [
        "## Token genaration and api management"
      ]
    },
    {
      "cell_type": "code",
      "metadata": {
        "id": "31f2f8e5",
        "cellView": "form"
      },
      "source": [
        "#@title Import modules\n",
        "import requests, base64\n",
        "import re\n",
        "import json as js\n",
        "import pandas as pd\n",
        "from io import StringIO\n",
        "import numpy as np\n",
        "import csv\n",
        "import copy\n",
        "\n",
        "\n"
      ],
      "execution_count": 9,
      "outputs": []
    },
    {
      "cell_type": "code",
      "metadata": {
        "id": "9a838133",
        "cellView": "form"
      },
      "source": [
        "#@title Token generation\n",
        "#@markdown This code calls the token end point with client-id and secret\n",
        "\n",
        "def login():\n",
        "    cfg = pd.read_csv(\"/content/config.csv\")\n",
        "    client_id = cfg['client_id'].values[0]\n",
        "    client_secret = cfg['client_secret'].values[0]\n",
        "    token_endpoint = cfg['token_url'].values[0]\n",
        "    \n",
        "    data = {'grant_type': 'client_credentials'}\n",
        "    \n",
        "    userpass = client_id + ':' + client_secret\n",
        "    encoded_u = base64.b64encode(userpass.encode()).decode()\n",
        "    auth_header = \"Basic \" + encoded_u\n",
        "    headers = {\n",
        "        'Content-Type': 'application/x-www-form-urlencoded',\n",
        "        'Authorization': auth_header\n",
        "    }\n",
        "\n",
        "    r = requests.post(token_endpoint, headers=headers, data=data)\n",
        "    response = r.json()\n",
        "\n",
        "    if (r.status_code == 200):\n",
        "        token = response['access_token']\n",
        "        # Put token in the session\n",
        "        print(token)\n",
        "    return token"
      ],
      "execution_count": 10,
      "outputs": []
    },
    {
      "cell_type": "code",
      "metadata": {
        "id": "0fb824d8",
        "cellView": "form"
      },
      "source": [
        "#@title Get Results \n",
        "#@markdown This code calls the end point to retrieve data\n",
        "def get_results(token, request):\n",
        "    try:\n",
        "        headers = {\"Authorization\": \"Bearer \" + token}\n",
        "        cfg = pd.read_csv(\"config.csv\")\n",
        "        base_url = cfg['base_url'].values[0]\n",
        "        result = requests.get(base_url + request, headers=headers)\n",
        "        if 200 <= result.status_code < 300:\n",
        "          return result.text\n",
        "        else:\n",
        "          print(result.text)\n",
        "          return  \n",
        "    except:\n",
        "        return"
      ],
      "execution_count": 11,
      "outputs": []
    },
    {
      "cell_type": "code",
      "metadata": {
        "id": "e2f88986",
        "cellView": "form"
      },
      "source": [
        "#@title Post results  \n",
        "#@markdown This code allows to POST data in payload or as a stream\n",
        "def post_results(token, request, payload, files):\n",
        "    try:\n",
        "        headers = {\"Authorization\": \"Bearer \" + token}\n",
        "        cfg = pd.read_csv(\"config.csv\")\n",
        "        base_url = cfg['base_url'].values[0]\n",
        "        result = requests.post(base_url + request, headers=headers, data=payload, files = files)\n",
        "        if 200 <= result.status_code < 300:\n",
        "          json_data = js.loads(result.text)\n",
        "          return json_data\n",
        "        else:\n",
        "          print(result.text)\n",
        "          return\n",
        "    except:\n",
        "        return"
      ],
      "execution_count": 12,
      "outputs": []
    },
    {
      "cell_type": "code",
      "metadata": {
        "id": "wPKz_Jzx2bu9",
        "cellView": "form"
      },
      "source": [
        "#@title Launch report\n",
        "#@markdown Code to manage report launch and retrieval of data in one function\n",
        "#@markdown It launchs the task and waits until completion\n",
        "def run_report(token, report):\n",
        "    try:\n",
        "        result = post_results(token, '/v1/process-templates/'+ report +'/run',\"\",\"\")\n",
        "        taskId = result[0]['taskId']\n",
        "        while True:\n",
        "            result = get_results(token, '/v1/process-templates/'+ taskId +'/status')\n",
        "            if result == \"Pending\" or result == \"In progress\":\n",
        "                print ('.', end='')\n",
        "            else:\n",
        "                print ('\\n' + result)\n",
        "            if result == \"Warning\" or result == \"Complete\" or result == \"Error\" or result == \"Cancelled\":\n",
        "                break\n",
        "                time.sleep(1)\n",
        "        print('\\n')\n",
        "        result = get_results(token, '/v1/process-templates/'+ report + '/files?taskId=' + taskId )\n",
        "        #print(result)\n",
        "        return result\n",
        "    except:\n",
        "        return"
      ],
      "execution_count": 13,
      "outputs": []
    },
    {
      "cell_type": "markdown",
      "metadata": {
        "id": "DpNxCx8fIAkM"
      },
      "source": [
        "## Tools for working with result\n"
      ]
    },
    {
      "cell_type": "code",
      "metadata": {
        "id": "ngVAy_MeQc5m",
        "cellView": "form"
      },
      "source": [
        "#@title Compare results\n",
        "\n",
        "def compare_results(df1, df2):\n",
        "  if not df1.shape[0] == df2.shape[0]:\n",
        "    print('Comparison complete, results are different') \n",
        "  else:\n",
        "    match = True\n",
        "    for x in df1.index:\n",
        "      if not ((df2['code'] == df1['Code'][x]) & (df2['name'] == df1['Name'][x])).any():\n",
        "        print('Comparison complete, results are different')\n",
        "        match = False\n",
        "        break \n",
        "    for x in df2.index:\n",
        "      if not ((df2['code'][x] == df1['Code']) & (df2['name'][x] == df1['Name'])).any():\n",
        "        print('Comparison complete, results are different')\n",
        "        match = False\n",
        "        break \n",
        "    if match:\n",
        "      print('Comparison complete, results from both APIs match')"
      ],
      "execution_count": 14,
      "outputs": []
    },
    {
      "cell_type": "code",
      "metadata": {
        "id": "8IkTMS5YmEH4",
        "cellView": "form"
      },
      "source": [
        "#@title Show results\n",
        "\n",
        "def show_results(df):\n",
        "  df2 = copy.deepcopy(df)\n",
        "  df2.replace(np.nan, '-', inplace = True)\n",
        "  display(df2)\n",
        " "
      ],
      "execution_count": 15,
      "outputs": []
    },
    {
      "cell_type": "markdown",
      "metadata": {
        "id": "e0Qk0kI5q1zI"
      },
      "source": [
        "## Connection"
      ]
    },
    {
      "cell_type": "code",
      "metadata": {
        "scrolled": false,
        "id": "f0259b5a",
        "cellView": "form"
      },
      "source": [
        "#@title <font color='lime'>Connect</font>\n",
        "print('token:')\n",
        "token = login()"
      ],
      "execution_count": null,
      "outputs": []
    },
    {
      "cell_type": "markdown",
      "metadata": {
        "id": "hbk2hA3OrMLI"
      },
      "source": [
        "## Exporting third-parties"
      ]
    },
    {
      "cell_type": "code",
      "metadata": {
        "id": "n8DPOBLnbQM0",
        "cellView": "form"
      },
      "source": [
        "#@title <font color='lime'>Launch and Compare the Third Parties and Process Template reports</font>\n",
        "\n",
        "res1 = run_report(token,'SU11')\n",
        "buffer = StringIO(res1)\n",
        "df1 = pd.read_csv (buffer,dtype=object, delimiter = \";\", usecols=[1,2,3,5,6,8,10,17,69,70,73], names = [\"Data type\",\"Code\",\"Name\",\"Creditor\",\"Debtor\",\"Other identifier type\",\"Non resident\",\"Country code\",\"Limit currency\",\"Transaction entry limit\",\"Transaction max.number\"], skiprows = [0], header=None)\n",
        "pd.set_option('display.max_colwidth', None)\n",
        "\n",
        "res2 = get_results(token, '/v1/third-parties')\n",
        "ppjson = js.loads(res2, parse_int=int)  \n",
        "df2 = pd.json_normalize(ppjson['results']).filter(items=['uuid', 'code', 'name', 'creationDate', 'updateDate', 'activeStatus', 'businessIdentifiers.otherIdentifierType', 'address.country.code'], axis =1)\n",
        "while True:\n",
        "  try:\n",
        "    next = ppjson['metadata']['links']['next']\n",
        "    res2 = get_results(token, '/v1/third-parties' + next[next.index('?'):])\n",
        "    ppjson = js.loads(res2, parse_int=int)  \n",
        "    df2 = df2.append(pd.json_normalize(ppjson['results']).filter(items=['uuid', 'code', 'name', 'creationDate', 'updateDate', 'activeStatus', 'businessIdentifiers.otherIdentifierType', 'address.country.code'], axis =1), ignore_index = True)\n",
        "  except:\n",
        "    break\n",
        "df1[df1['Data type'].str.contains('T')]\n",
        "df1.drop_duplicates(subset=['Code'], inplace = True, ignore_index= True)\n",
        "compare_results(df1, df2)\n"
      ],
      "execution_count": null,
      "outputs": []
    },
    {
      "cell_type": "code",
      "metadata": {
        "id": "PKntqjw_heYD",
        "cellView": "form"
      },
      "source": [
        "#@title <font color='lime'>Show retrieved the Process Template results</font>\n",
        "\n",
        "#@markdown Select number of rows to disply:\n",
        "rows = \"10\" #@param [10, 20, 50, 100, \"showAll\"] {allow-input: true}\n",
        "if (rows.isdigit() or rows == 'showAll') :\n",
        "    print('\\033[31m Results from process template: ')\n",
        "    if rows == 'showAll':\n",
        "      show_results(df1)\n",
        "      print('\\033[31m Dispalyed results: ' + str(df2.shape[0]))\n",
        "    else: \n",
        "      show_results(df1.head(int(rows))) \n",
        "      rows_display = rows if int(rows) < df2.shape[0] else str(df2.shape[0])\n",
        "      print('\\033[31m Displayed results: ' + rows_display )\n",
        "      print('\\033[31m Total results: ' + str(df2.shape[0]))\n",
        "else:\n",
        "  print(\"rows should be integer\")\n",
        "\n"
      ],
      "execution_count": null,
      "outputs": []
    },
    {
      "cell_type": "code",
      "metadata": {
        "id": "kRHixuu6ZqiP",
        "cellView": "form"
      },
      "source": [
        "#@title <font color='lime'>Show retrieved the Third Parties results</font>\n",
        "\n",
        "#@markdown Select number of rows to disply:\n",
        "rows = \"10\" #@param [10, 20, 50, 100, \"showAll\"] {allow-input: true}\n",
        "if (rows.isdigit() or rows == 'showAll') :\n",
        "    print('\\033[31m Results from third perties: ')\n",
        "    if rows == 'showAll':\n",
        "      show_results(df2)\n",
        "      print('\\033[31m Dispalyed results: ' + str(df2.shape[0]))\n",
        "    else: \n",
        "      show_results(df2.head(int(rows))) \n",
        "      rows_display = rows if int(rows) < df2.shape[0] else str(df2.shape[0])\n",
        "      print('\\033[31m Displayed results: ' + rows_display )\n",
        "    print('\\033[31m Total results: ' + str(df2.shape[0]))\n",
        "else:\n",
        "  print(\"rows should be integer\")"
      ],
      "execution_count": null,
      "outputs": []
    }
  ]
}