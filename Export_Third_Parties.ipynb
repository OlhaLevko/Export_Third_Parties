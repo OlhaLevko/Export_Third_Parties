{
  "nbformat": 4,
  "nbformat_minor": 0,
  "metadata": {
    "colab": {
      "name": "Export-Third-Parties.ipynb",
      "provenance": []
    },
    "kernelspec": {
      "name": "python3",
      "display_name": "Python 3"
    },
    "language_info": {
      "name": "python"
    }
  },
  "cells": [
    {
      "cell_type": "markdown",
      "metadata": {
        "id": "6DFG_s7MnT-n"
      },
      "source": [
        "# Export-Third-Parties"
      ]
    },
    {
      "cell_type": "markdown",
      "metadata": {
        "id": "iGPqmhv9pJ7i"
      },
      "source": [
        "## Token genaration and api management"
      ]
    },
    {
      "cell_type": "code",
      "metadata": {
        "id": "31f2f8e5"
      },
      "source": [
        "#@title Import modules\n",
        "import requests, base64\n",
        "import re\n",
        "import json\n",
        "import pandas as pd\n",
        "from io import StringIO"
      ],
      "execution_count": null,
      "outputs": []
    },
    {
      "cell_type": "code",
      "metadata": {
        "id": "9a838133"
      },
      "source": [
        "#@title Token generation\n",
        "#@markdown This code calls the token end point with client-id and secret\n",
        "\n",
        "def login():\n",
        "    cfg = pd.read_csv(\"/content/config.csv\")\n",
        "    client_id = cfg['client_id'].values[0]\n",
        "    client_secret = cfg['client_secret'].values[0]\n",
        "    token_endpoint = cfg['token_url'].values[0]\n",
        "    \n",
        "    data = {'grant_type': 'client_credentials'}\n",
        "    \n",
        "    userpass = client_id + ':' + client_secret\n",
        "    encoded_u = base64.b64encode(userpass.encode()).decode()\n",
        "    auth_header = \"Basic \" + encoded_u\n",
        "    headers = {\n",
        "        'Content-Type': 'application/x-www-form-urlencoded',\n",
        "        'Authorization': auth_header\n",
        "    }\n",
        "\n",
        "    r = requests.post(token_endpoint, headers=headers, data=data)\n",
        "    response = r.json()\n",
        "\n",
        "    if (r.status_code == 200):\n",
        "        token = response['access_token']\n",
        "        # Put token in the session\n",
        "        print(token)\n",
        "    return token"
      ],
      "execution_count": null,
      "outputs": []
    },
    {
      "cell_type": "code",
      "metadata": {
        "id": "0fb824d8"
      },
      "source": [
        "#@title Get Results \n",
        "#@markdown This code calls the end point to retrieve data\n",
        "def get_results(token, request):\n",
        "    try:\n",
        "        headers = {\"Authorization\": \"Bearer \" + token}\n",
        "        cfg = pd.read_csv(\"config.csv\")\n",
        "        base_url = cfg['base_url'].values[0]\n",
        "        result = requests.get(base_url + request, headers=headers)\n",
        "        if 200 <= result.status_code < 300:\n",
        "          return result.text\n",
        "        else:\n",
        "          print(result.text)\n",
        "          return  \n",
        "    except:\n",
        "        return"
      ],
      "execution_count": null,
      "outputs": []
    },
    {
      "cell_type": "code",
      "metadata": {
        "id": "e2f88986"
      },
      "source": [
        "#@title Post results  \n",
        "#@markdown This code allows to POST data in payload or as a stream\n",
        "def post_results(token, request, payload, files):\n",
        "    try:\n",
        "        headers = {\"Authorization\": \"Bearer \" + token}\n",
        "        cfg = pd.read_csv(\"config.csv\")\n",
        "        base_url = cfg['base_url'].values[0]\n",
        "        result = requests.post(base_url + request, headers=headers, data=payload, files = files)\n",
        "        if 200 <= result.status_code < 300:\n",
        "          json_data = json.loads(result.text)\n",
        "          return json_data\n",
        "        else:\n",
        "          print(result.text)\n",
        "          return\n",
        "    except:\n",
        "        return"
      ],
      "execution_count": null,
      "outputs": []
    },
    {
      "cell_type": "code",
      "metadata": {
        "id": "wPKz_Jzx2bu9"
      },
      "source": [
        "#@title Launch report\n",
        "#@markdown Code to manage report launch and retrieval of data in one function\n",
        "#@markdown It launchs the task and waits until completion\n",
        "def run_report(token, report):\n",
        "    try:\n",
        "        result = post_results(token, '/v1/process-templates/'+ report +'/run',\"\",\"\")\n",
        "        #pprint (result,indent=1)\n",
        "        taskId = result[0]['taskId']\n",
        "        while True:\n",
        "            result = get_results(token, '/v1/process-templates/'+ taskId +'/status')\n",
        "            if result == \"Pending\" or result == \"In progress\":\n",
        "                print ('.', end='')\n",
        "            else:\n",
        "                print ('\\n' + result)\n",
        "            if result == \"Warning\" or result == \"Complete\" or result == \"Error\":\n",
        "                break\n",
        "                time.sleep(1)\n",
        "        print('\\n')\n",
        "        result = get_results(token, '/v1/process-templates/'+ report + '/files?taskId=' + taskId )\n",
        "        #print(result)\n",
        "        return result\n",
        "    except:\n",
        "        return"
      ],
      "execution_count": null,
      "outputs": []
    },
    {
      "cell_type": "markdown",
      "metadata": {
        "id": "e0Qk0kI5q1zI"
      },
      "source": [
        "## Connection"
      ]
    },
    {
      "cell_type": "code",
      "metadata": {
        "scrolled": false,
        "id": "f0259b5a"
      },
      "source": [
        "#@title <font color='lime'>Connect</font>\n",
        "print('token:')\n",
        "token = login()"
      ],
      "execution_count": null,
      "outputs": []
    },
    {
      "cell_type": "markdown",
      "metadata": {
        "id": "hbk2hA3OrMLI"
      },
      "source": [
        "## Exporting third-parties"
      ]
    },
    {
      "cell_type": "code",
      "metadata": {
        "id": "PKntqjw_heYD"
      },
      "source": [
        "#@title <font color='lime'>Launch report on third-parties</font>\n",
        "res = run_report(token,'SU11')\n",
        "buffer = StringIO(res)\n",
        "df = pd.read_csv (buffer, header=None)\n",
        "pd.set_option('display.max_colwidth', None)\n",
        "df"
      ],
      "execution_count": null,
      "outputs": []
    }
  ]
}