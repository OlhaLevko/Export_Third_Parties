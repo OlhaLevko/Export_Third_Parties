{
  "nbformat": 4,
  "nbformat_minor": 0,
  "metadata": {
    "colab": {
      "name": "Export_Third_Parties.ipynb",
      "provenance": []
    },
    "kernelspec": {
      "name": "python3",
      "display_name": "Python 3"
    },
    "language_info": {
      "name": "python"
    }
  },
  "cells": [
    {
      "cell_type": "markdown",
      "metadata": {
        "id": "6DFG_s7MnT-n"
      },
      "source": [
        "# Export-Third-Parties"
      ]
    },
    {
      "cell_type": "markdown",
      "metadata": {
        "id": "iGPqmhv9pJ7i"
      },
      "source": [
        "## Token genaration and api management"
      ]
    },
    {
      "cell_type": "code",
      "metadata": {
        "id": "31f2f8e5",
        "cellView": "form"
      },
      "source": [
        "#@title Import modules\n",
        "import requests, base64\n",
        "import re\n",
        "import json as js\n",
        "import pandas as pd\n",
        "from io import StringIO\n",
        "import numpy as np\n",
        "import csv\n",
        "import copy\n",
        "\n",
        "\n"
      ],
      "execution_count": 1,
      "outputs": []
    },
    {
      "cell_type": "code",
      "metadata": {
        "id": "9a838133",
        "cellView": "form"
      },
      "source": [
        "#@title Token generation\n",
        "#@markdown This code calls the token end point with client-id and secret\n",
        "\n",
        "def login():\n",
        "    cfg = pd.read_csv(\"/content/config.csv\")\n",
        "    client_id = cfg['client_id'].values[0]\n",
        "    client_secret = cfg['client_secret'].values[0]\n",
        "    token_endpoint = cfg['token_url'].values[0]\n",
        "    \n",
        "    data = {'grant_type': 'client_credentials'}\n",
        "    \n",
        "    userpass = client_id + ':' + client_secret\n",
        "    encoded_u = base64.b64encode(userpass.encode()).decode()\n",
        "    auth_header = \"Basic \" + encoded_u\n",
        "    headers = {\n",
        "        'Content-Type': 'application/x-www-form-urlencoded',\n",
        "        'Authorization': auth_header\n",
        "    }\n",
        "\n",
        "    r = requests.post(token_endpoint, headers=headers, data=data)\n",
        "    response = r.json()\n",
        "\n",
        "    if (r.status_code == 200):\n",
        "        token = response['access_token']\n",
        "        # Put token in the session\n",
        "        print(token)\n",
        "    return token"
      ],
      "execution_count": 2,
      "outputs": []
    },
    {
      "cell_type": "code",
      "metadata": {
        "id": "0fb824d8",
        "cellView": "form"
      },
      "source": [
        "#@title Get Results \n",
        "#@markdown This code calls the end point to retrieve data\n",
        "def get_results(token, request):\n",
        "    try:\n",
        "        headers = {\"Authorization\": \"Bearer \" + token}\n",
        "        cfg = pd.read_csv(\"config.csv\")\n",
        "        base_url = cfg['base_url'].values[0]\n",
        "        result = requests.get(base_url + request, headers=headers)\n",
        "        if 200 <= result.status_code < 300:\n",
        "          return result.text\n",
        "        else:\n",
        "          print(result.text)\n",
        "          return  \n",
        "    except:\n",
        "        return"
      ],
      "execution_count": 3,
      "outputs": []
    },
    {
      "cell_type": "code",
      "metadata": {
        "id": "e2f88986",
        "cellView": "form"
      },
      "source": [
        "#@title Post results  \n",
        "#@markdown This code allows to POST data in payload or as a stream\n",
        "def post_results(token, request, payload, files):\n",
        "    try:\n",
        "        headers = {\"Authorization\": \"Bearer \" + token}\n",
        "        cfg = pd.read_csv(\"config.csv\")\n",
        "        base_url = cfg['base_url'].values[0]\n",
        "        result = requests.post(base_url + request, headers=headers, data=payload, files = files)\n",
        "        if 200 <= result.status_code < 300:\n",
        "          json_data = js.loads(result.text)\n",
        "          return json_data\n",
        "        else:\n",
        "          print(result.text)\n",
        "          return\n",
        "    except:\n",
        "        return"
      ],
      "execution_count": 4,
      "outputs": []
    },
    {
      "cell_type": "code",
      "metadata": {
        "id": "wPKz_Jzx2bu9",
        "cellView": "form"
      },
      "source": [
        "#@title Launch report\n",
        "#@markdown Code to manage report launch and retrieval of data in one function\n",
        "#@markdown It launchs the task and waits until completion\n",
        "def run_report(token, report):\n",
        "    try:\n",
        "        result = post_results(token, '/v1/process-templates/'+ report +'/run',\"\",\"\")\n",
        "        taskId = result[0]['taskId']\n",
        "        while True:\n",
        "            result = get_results(token, '/v1/process-templates/'+ taskId +'/status')\n",
        "            if result == \"Pending\" or result == \"In progress\":\n",
        "                print ('.', end='')\n",
        "            else:\n",
        "                print ('\\n' + result)\n",
        "            if result == \"Warning\" or result == \"Complete\" or result == \"Error\" or result == \"Cancelled\":\n",
        "                break\n",
        "                time.sleep(1)\n",
        "        print('\\n')\n",
        "        result = get_results(token, '/v1/process-templates/'+ report + '/files?taskId=' + taskId )\n",
        "        #print(result)\n",
        "        return result\n",
        "    except:\n",
        "        return"
      ],
      "execution_count": 5,
      "outputs": []
    },
    {
      "cell_type": "markdown",
      "metadata": {
        "id": "DpNxCx8fIAkM"
      },
      "source": [
        "## Tools for working with result\n"
      ]
    },
    {
      "cell_type": "code",
      "metadata": {
        "id": "qkcJ6BDIWNSf",
        "cellView": "form"
      },
      "source": [
        "#@title Remove empty values in json\n",
        "\n",
        "def remove_empty_elements(d):\n",
        "    \"\"\"recursively remove empty lists, empty dicts, or None elements from a dictionary\"\"\"\n",
        "\n",
        "    def empty(x):\n",
        "        return x is None or x == {} or x == []\n",
        "\n",
        "    if not isinstance(d, (dict, list)):\n",
        "        return d\n",
        "    elif isinstance(d, list):\n",
        "        return [v for v in (remove_empty_elements(v) for v in d) if not empty(v)]\n",
        "    else:\n",
        "        return {k: v for k, v in ((k, remove_empty_elements(v)) for k, v in d.items()) if not empty(v)}"
      ],
      "execution_count": 6,
      "outputs": []
    },
    {
      "cell_type": "code",
      "metadata": {
        "id": "GxrCLUUOIi3y",
        "cellView": "form"
      },
      "source": [
        "#@title Convert csv to json\n",
        "\n",
        "def convert_toJson(df):\n",
        "  result = df.to_json(orient='records')\n",
        "  parsed = js.loads(result, parse_int=int)\n",
        "  return parsed"
      ],
      "execution_count": 7,
      "outputs": []
    },
    {
      "cell_type": "code",
      "metadata": {
        "id": "ngVAy_MeQc5m",
        "cellView": "form"
      },
      "source": [
        "#@title Compare results\n",
        "\n",
        "def compare_results(df1, df2):\n",
        "  df_20 = pd.DataFrame()\n",
        "  x = True\n",
        "  for x in df1.index:\n",
        "    if not ((df2['code'] == df1['Code'][x]) & (df2['name'] == df1['Name'][x])).any():\n",
        "      print('Compared 20 rows, results are different')\n",
        "      x = False\n",
        "      break\n",
        "    else: \n",
        "      df_20.append(df2, ignore_index = True)\n",
        "  if x:\n",
        "    print('Compared 20 rows, results match')\n",
        "  display(df_20)\n",
        "  return df_20"
      ],
      "execution_count": 8,
      "outputs": []
    },
    {
      "cell_type": "code",
      "metadata": {
        "id": "8IkTMS5YmEH4",
        "cellView": "form"
      },
      "source": [
        "#@title Show results\n",
        "\n",
        "def show_results(df, json, type, showEmptyValuesInJson):\n",
        "  df2 = copy.deepcopy(df)\n",
        "  if type == 'csv':\n",
        "    df2.replace(np.nan, '-', inplace = True)\n",
        "    display(df2)\n",
        "  if type == 'json':\n",
        "    parsed = convert_toJson(df) if json is None else json\n",
        "    if not showEmptyValuesInJson:\n",
        "      parsed = remove_empty_elements(parsed)\n",
        "    print(js.dumps(parsed, indent=2, ensure_ascii=True) )"
      ],
      "execution_count": 9,
      "outputs": []
    },
    {
      "cell_type": "markdown",
      "metadata": {
        "id": "e0Qk0kI5q1zI"
      },
      "source": [
        "## Connection"
      ]
    },
    {
      "cell_type": "code",
      "metadata": {
        "scrolled": false,
        "id": "f0259b5a",
        "cellView": "form"
      },
      "source": [
        "#@title <font color='lime'>Connect</font>\n",
        "print('token:')\n",
        "token = login()"
      ],
      "execution_count": null,
      "outputs": []
    },
    {
      "cell_type": "markdown",
      "metadata": {
        "id": "hbk2hA3OrMLI"
      },
      "source": [
        "## Exporting third-parties"
      ]
    },
    {
      "cell_type": "code",
      "metadata": {
        "id": "PKntqjw_heYD",
        "cellView": "form"
      },
      "source": [
        "#@title <font color='lime'>Launch report on third-parties through Process Template</font>\n",
        "\n",
        "#@markdown #### Choose content type from dropdown:\n",
        "type = 'csv' #@param ['csv', 'json']\n",
        "#@markdown #### Choose API to retrieve report:\n",
        "thirdParties = True#@param{type: 'boolean'}\n",
        "processTemplates = True#@param{type: 'boolean'}\n",
        "#@markdown #### Options:\n",
        "compareResults = True#@param{type: 'boolean'}\n",
        "showEmptyValuesInJson = True#@param{type: 'boolean'}\n",
        "doNotDisplayAccountInformation = True#@param{type: 'boolean'}\n",
        "\n",
        "if processTemplates:\n",
        "  res1 = run_report(token,'SU11')\n",
        "  buffer = StringIO(res1)\n",
        "  df1 = pd.read_csv (buffer,dtype=object, delimiter = \";\", usecols=[1,2,3,5,6,8,10,17,30,32,36,37,38,61,69,70,72,73,78], names = [\"Data type\",\"Code\",\"Name\",\"Creditor\",\"Debtor\",\"Other identifier type\",\"Non resident\",\"Country code\",\"Account.Country_code\",\"Account.Name\",\"Account.Currency\",\"Account.ID_type\",\"Account ID\",\"Account.Used_by\",\"Limit currency\",\"Transaction entry limit\",\"Account nature\",\"Transaction max. number\",\"Additional correspondent.One-time correspondent\"],header=None, skiprows=[0])\n",
        "  pd.set_option('display.max_colwidth', None)\n",
        "\n",
        "if thirdParties:\n",
        "  res2 = get_results(token, '/v1/third-parties')\n",
        "  ppjson = js.loads(res2, parse_int=int)  \n",
        "  df2 = pd.json_normalize(ppjson['results']).filter(items=['uuid', 'code', 'name', 'creationDate', 'updateDate', 'activeStatus', 'businessIdentifiers.otherIdentifierType', 'address.country.code'], axis =1)\n",
        "\n",
        "\n",
        "df1_T = df1.loc[df1['Data type'].str.contains('T')].filter(regex = '^((?!(Account|Additional correspondent)).)*$', axis = 1)\n",
        "df1_T.drop_duplicates(subset=['Code'], inplace = True)\n",
        "if compareResults:\n",
        "  if thirdParties and processTemplates:\n",
        "    compare_results(df1_T.head(20), df2)\n",
        "    print('\\033[31m Results from process template: ')\n",
        "    show_results(df1_T.head(20), None, type, showEmptyValuesInJson)\n",
        "    print('\\033[32m Results from third parties: ')\n",
        "    df2_copy = copy.deepcopy(df2)\n",
        "    show_results(df2_copy[df2_copy['code'].isin(df1_T.Code.head(20))], ppjson['results'], type, showEmptyValuesInJson)\n",
        "  elif thirdParties:\n",
        "    print('Results can be compared when both third-parties and process-templates are chosen.')\n",
        "    print('\\033[32m Results from third parties: ')\n",
        "    show_results(df2, ppjson['results'], type, showEmptyValuesInJson)\n",
        "  elif processTemplates:\n",
        "    print('Results can be compared when both third-parties and process-templates are chosen.')\n",
        "    print('\\033[31m Results from process template: ')\n",
        "    show_results(df1_T, None, type, showEmptyValuesInJson) if doNotDisplayAccountInformation else show_results(df1, None, type, showEmptyValuesInJson)\n",
        "  else:\n",
        "    print('Results can be compared when both third-parties and process-templates are chosen.')\n",
        "else:\n",
        "  if thirdParties:\n",
        "    print('\\033[32m Results from third parties: ')\n",
        "    show_results(df2, ppjson['results'], type, showEmptyValuesInJson)\n",
        "  if processTemplates:\n",
        "    print('\\033[31m Results from process template: ')\n",
        "    show_results(df1_T, None, type, showEmptyValuesInJson) if doNotDisplayAccountInformation else show_results(df1, None, type, showEmptyValuesInJson)\n",
        "  \n",
        "  \n",
        "\n"
      ],
      "execution_count": null,
      "outputs": []
    }
  ]
}